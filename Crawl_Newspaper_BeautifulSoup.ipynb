{
 "cells": [
  {
   "cell_type": "markdown",
   "metadata": {},
   "source": [
    "Crawl newspaper content using BeautifulSoup"
   ]
  },
  {
   "cell_type": "code",
   "execution_count": 1,
   "metadata": {},
   "outputs": [],
   "source": [
    "from bs4 import BeautifulSoup\n",
    "import requests\n",
    "import pandas as pd"
   ]
  },
  {
   "cell_type": "code",
   "execution_count": 2,
   "metadata": {},
   "outputs": [],
   "source": [
    "def crawNewsData(baseUrl, url):\n",
    "    response = requests.get(url)\n",
    "    soup = BeautifulSoup(response.content, \"html.parser\")\n",
    "    titles = soup.findAll('h3', class_='title-news')\n",
    "    links = [link.find('a').attrs[\"href\"] for link in titles]\n",
    "    data = []\n",
    "    for link in links:\n",
    "        news = requests.get(baseUrl + link)\n",
    "        soup = BeautifulSoup(news.content, \"html.parser\")\n",
    "        try:\n",
    "            title = soup.find(\"h1\", class_=\"article-title\").text\n",
    "            abstract = soup.find(\"h2\", class_=\"sapo\").text\n",
    "            time = soup.find(\"div\",  class_=\"date-time\").text\n",
    "        except:\n",
    "            title = \"\"\n",
    "            abstract = \"\"\n",
    "            time = \"\"\n",
    "        \n",
    "        body = soup.find(\"div\", id=\"main-detail-body\")\n",
    "        content = \"\"\n",
    "        try:\n",
    "            for i in range(0,len(body.findChildren(\"p\", recursive=False))):\n",
    "                content += body.findChildren(\"p\", recursive=False)[i].text\n",
    "        except:\n",
    "            content = \"\"\n",
    "        data.append({\n",
    "            \"title\": title,\n",
    "            \"abstract\": abstract,\n",
    "            \"content\": content,\n",
    "            \"time\": time,\n",
    "        })\n",
    "        \n",
    "    return data\n"
   ]
  },
  {
   "cell_type": "code",
   "execution_count": null,
   "metadata": {
    "scrolled": true
   },
   "outputs": [],
   "source": [
    "data = []\n",
    "for day in range(1,27):\n",
    "    url = \"https://tuoitre.vn/trang-chu/xem-theo-ngay/%d-3-2021.htm\"%(day)\n",
    "    data = data + crawNewsData(\"https://tuoitre.vn\", url)"
   ]
  },
  {
   "cell_type": "code",
   "execution_count": null,
   "metadata": {
    "scrolled": true
   },
   "outputs": [],
   "source": [
    "dataframe = pd.DataFrame(data)\n",
    "dataframe = dataframe[dataframe.title != '']\n",
    "dataframe"
   ]
  },
  {
   "cell_type": "code",
   "execution_count": 7,
   "metadata": {},
   "outputs": [],
   "source": [
    "dataframe.to_csv('..\\Crawl data\\data.csv', index = False)"
   ]
  }
 ],
 "metadata": {
  "kernelspec": {
   "display_name": "Python 3",
   "language": "python",
   "name": "python3"
  },
  "language_info": {
   "codemirror_mode": {
    "name": "ipython",
    "version": 3
   },
   "file_extension": ".py",
   "mimetype": "text/x-python",
   "name": "python",
   "nbconvert_exporter": "python",
   "pygments_lexer": "ipython3",
   "version": "3.8.3"
  }
 },
 "nbformat": 4,
 "nbformat_minor": 4
}
