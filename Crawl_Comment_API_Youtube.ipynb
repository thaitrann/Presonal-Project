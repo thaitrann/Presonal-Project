{
 "cells": [
  {
   "cell_type": "markdown",
   "metadata": {},
   "source": [
    "Crawl comment using API Youtube"
   ]
  },
  {
   "cell_type": "code",
   "execution_count": null,
   "metadata": {
    "scrolled": true
   },
   "outputs": [],
   "source": [
    "!pip install --upgrade google-api-python-client"
   ]
  },
  {
   "cell_type": "code",
   "execution_count": null,
   "metadata": {
    "scrolled": true
   },
   "outputs": [],
   "source": [
    "from googleapiclient.discovery import build\n",
    "# get api key from https://console.cloud.google.com/apis/\n",
    "api_key = 'API KEY'\n",
    "\n",
    "def video_comments(video_id):\n",
    "    # empty list for storing reply\n",
    "    replies = []\n",
    "\n",
    "    # creating youtube resource object\n",
    "    youtube = build('youtube', 'v3',\n",
    "                    developerKey=api_key)\n",
    "\n",
    "    # retrieve youtube video results\n",
    "    video_response=youtube.commentThreads().list(\n",
    "    part='snippet,replies',\n",
    "    videoId=video_id,\n",
    "    maxResults = '100',\n",
    "    textFormat = 'plainText'\n",
    "    ).execute()\n",
    "    comments = []\n",
    "    # iterate video response\n",
    "\n",
    "\n",
    "    # extracting required info\n",
    "    # from each result object\n",
    "    for item in video_response['items']:\n",
    "\n",
    "        # Extracting comments\n",
    "        cmt = item['snippet']['topLevelComment']['snippet']['textDisplay']\n",
    "        print(cmt)\n",
    "        comments.append(cmt)\n",
    "\n",
    "    # Again repeat\n",
    "        if 'nextPageToken' in video_response:\n",
    "            video_response = youtube.commentThreads().list(\n",
    "                    part = 'snippet,replies',\n",
    "                    videoId = video_id\n",
    "                ).execute()\n",
    "        else:\n",
    "            break\n",
    "    return comments\n",
    "  \n",
    "\n",
    "# Enter video id\n",
    "video_id = \"\"\n",
    "# Call function\n",
    "\n",
    "comments_vid = video_comments(video_id).copy()\n"
   ]
  },
  {
   "cell_type": "code",
   "execution_count": null,
   "metadata": {},
   "outputs": [],
   "source": [
    "#check duplitcate\n",
    "import collections\n",
    "print([item for item, count in collections.Counter(comments_vid).items() if count > 1])"
   ]
  },
  {
   "cell_type": "code",
   "execution_count": null,
   "metadata": {},
   "outputs": [],
   "source": [
    "import pandas as pd\n",
    "df1 = pd.DataFrame(comments_vid, columns = ['Raw_Comments'])\n",
    "df1.to_csv(r\"dataset1.csv\")"
   ]
  }
 ],
 "metadata": {
  "kernelspec": {
   "display_name": "Python 3",
   "language": "python",
   "name": "python3"
  },
  "language_info": {
   "codemirror_mode": {
    "name": "ipython",
    "version": 3
   },
   "file_extension": ".py",
   "mimetype": "text/x-python",
   "name": "python",
   "nbconvert_exporter": "python",
   "pygments_lexer": "ipython3",
   "version": "3.8.3"
  }
 },
 "nbformat": 4,
 "nbformat_minor": 4
}
